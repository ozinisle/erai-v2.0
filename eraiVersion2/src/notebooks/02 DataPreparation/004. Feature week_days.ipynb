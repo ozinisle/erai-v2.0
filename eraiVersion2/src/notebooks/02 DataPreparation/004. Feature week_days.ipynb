{
 "cells": [
  {
   "cell_type": "code",
   "execution_count": 1,
   "metadata": {},
   "outputs": [
    {
     "name": "stdout",
     "output_type": "stream",
     "text": [
      "done\n"
     ]
    }
   ],
   "source": [
    "dataName = 'adani'\n",
    "dataFrequency = '1h'\n",
    "featureIndexStamp = \"004_\"\n",
    "variation_degree=20\n",
    "requiredMinimumCorrelation = .2\n",
    "autoConfigFileRelativePath = '/src/config/autoConfig/config.json'\n",
    "KEY_preProcessedDataFilePath='preProcessedDataFilePath'\n",
    "\n",
    "print('done')"
   ]
  },
  {
   "cell_type": "code",
   "execution_count": 2,
   "metadata": {
    "scrolled": true
   },
   "outputs": [
    {
     "name": "stdout",
     "output_type": "stream",
     "text": [
      "done\n",
      "into method doBasicOperation\n",
      "jupyterNodePath >>> C:\\Users\\kalagi01\\Desktop\\dev\\eraiVersion2\n",
      "configFilePath >>> C:\\Users\\kalagi01\\Desktop\\dev\\eraiVersion2\\src\\config\\autoConfig\\config.json\n",
      " retrieving values configured in >>> C:\\Users\\kalagi01\\Desktop\\dev\\eraiVersion2\\src\\config\\autoConfig\\config.json\n",
      "added INPUT FEATURES >>> 4 count >>> open-high-low-close\n",
      "before return statement of method doBasicOperation \n"
     ]
    }
   ],
   "source": [
    "# Include python files defined in the library folder to help facilitate the stock price Prediction \n",
    "import os\n",
    "import sys  \n",
    "module_path = os.path.abspath('../../'+os.path.join('.'))\n",
    "\n",
    "sys.path.append(module_path)\n",
    "print('done')\n",
    "\n",
    "from dataPreparation import *\n",
    "from dataPreprocessing import *\n",
    "from utilities import *\n",
    "\n",
    "from dataPreparation.featurePreparation import doBasicOperation\n",
    "from dataPreparation.featurePreparation import prepareFeatureWithData\n",
    "\n",
    "_basicDf,_variation_degree,_preProcessedDataFilePath,_autoConfigData,_configFilePath = doBasicOperation(dataName,\n",
    "       dataFrequency,autoConfigFileRelativePath,KEY_preProcessedDataFilePath,variation_degree)\n"
   ]
  },
  {
   "cell_type": "code",
   "execution_count": 3,
   "metadata": {
    "scrolled": true
   },
   "outputs": [
    {
     "name": "stdout",
     "output_type": "stream",
     "text": [
      "preprocessedFolderPath interim test >>> C:\\Users\\kalagi01\\Desktop\\dev\\eraiVersion2\\data\\adani\\processed\\preProcessedData\n",
      "outputFolderPath interim test >>> C:\\Users\\kalagi01\\Desktop\\dev\\eraiVersion2\\data\\adani\\processed\n",
      " checking if folder existis >>>C:\\Users\\kalagi01\\Desktop\\dev\\eraiVersion2\\data\\adani\\processed\\features\n",
      "featuresFolder interim test >>> C:\\Users\\kalagi01\\Desktop\\dev\\eraiVersion2\\data\\adani\\processed\\features\n",
      " checking if folder existis >>>C:\\Users\\kalagi01\\Desktop\\dev\\eraiVersion2\\data\\adani\\processed\\features\\rawFeatures\n",
      "rawFeaturesFolder interim test >>> C:\\Users\\kalagi01\\Desktop\\dev\\eraiVersion2\\data\\adani\\processed\\features\\rawFeatures\n",
      " checking if folder existis >>>C:\\Users\\kalagi01\\Desktop\\dev\\eraiVersion2\\data\\adani\\processed\\features\\filteredFeatures\n",
      "filteredFeaturesFolder interim test >>> C:\\Users\\kalagi01\\Desktop\\dev\\eraiVersion2\\data\\adani\\processed\\features\\filteredFeatures\n",
      " checking if folder existis >>>C:\\Users\\kalagi01\\Desktop\\dev\\eraiVersion2\\data\\adani\\processed\\features\\correlations\n",
      "correlationsFolder interim test >>> C:\\Users\\kalagi01\\Desktop\\dev\\eraiVersion2\\data\\adani\\processed\\features\\correlations\n",
      " checking if folder existis >>>C:\\Users\\kalagi01\\Desktop\\dev\\eraiVersion2\\data\\adani\\processed\\features\\correlations\\reasonableCorrelations\n",
      "reasonableCorrelationsFolder interim test >>> C:\\Users\\kalagi01\\Desktop\\dev\\eraiVersion2\\data\\adani\\processed\\features\\correlations\\reasonableCorrelations\n",
      "trainableFeaturesListtFilePath interim test >>> C:\\Users\\kalagi01\\Desktop\\dev\\eraiVersion2\\data\\adani\\processed\\features\\filteredFeatures\\004_week_days_trainableFeaturesList.csv\n",
      "currentFeatureListFilePath interim test >>> C:\\Users\\kalagi01\\Desktop\\dev\\eraiVersion2\\data\\adani\\processed\\features\\rawFeatures\\004_week_days_variations_list.csv\n",
      "currentFeatureCorrelationListFilePath interim test >>> C:\\Users\\kalagi01\\Desktop\\dev\\eraiVersion2\\data\\adani\\processed\\features\\correlations\\004_week_days_variations_correlation_list.csv\n",
      "reasonableCorelationListFilePath interim test >>> C:\\Users\\kalagi01\\Desktop\\dev\\eraiVersion2\\data\\adani\\processed\\features\\correlations\\reasonableCorrelations\\004_week_days_variations_reasonable_correlation_list.csv\n",
      "cannot delete file as the file does not exist >>C:\\Users\\kalagi01\\Desktop\\dev\\eraiVersion2\\data\\adani\\processed\\features\\filteredFeatures\\004_week_days_trainableFeaturesList.csv\n",
      "cannot delete file as the file does not exist >>C:\\Users\\kalagi01\\Desktop\\dev\\eraiVersion2\\data\\adani\\processed\\features\\rawFeatures\\004_week_days_variations_list.csv\n",
      "cannot delete file as the file does not exist >>C:\\Users\\kalagi01\\Desktop\\dev\\eraiVersion2\\data\\adani\\processed\\features\\correlations\\004_week_days_variations_correlation_list.csv\n",
      "cannot delete file as the file does not exist >>C:\\Users\\kalagi01\\Desktop\\dev\\eraiVersion2\\data\\adani\\processed\\features\\correlations\\reasonableCorrelations\\004_week_days_variations_reasonable_correlation_list.csv\n",
      "currentFeatureListFilePath interim test >>> C:\\Users\\kalagi01\\Desktop\\dev\\eraiVersion2\\data\\adani\\processed\\features\\rawFeatures\\004_week_days_variations_list.csv\n",
      "done\n"
     ]
    }
   ],
   "source": [
    "import pandas as pd\n",
    "\n",
    "featureOfInterest = 'week_days'\n",
    "#_basicDf=_basicDf[1:10]\n",
    "#newFeatureDf = ((_basicDf['open']+_basicDf['high'])/2).rename(featureOfInterest)\n",
    "inputRawProcessedDataDF = pd.read_csv(_preProcessedDataFilePath) \n",
    "newFeatureDf = pd.to_datetime(inputRawProcessedDataDF['date-time'])\n",
    "newFeatureDf = newFeatureDf.dt.weekday+1\n",
    "newFeatureDf = pd.concat([newFeatureDf.rename(featureOfInterest)],axis=1)\n",
    "\n",
    "_correlation, _reasonableCorelation ,_newTrainingSetDf ,_trainableFeaturesDf = prepareFeatureWithData(newFeatureDf,\n",
    "            _basicDf,_variation_degree,_preProcessedDataFilePath,\n",
    "            _configFilePath,requiredMinimumCorrelation,featureIndexStamp,\n",
    "            dataName,dataFrequency,useVersion2=True)\n",
    "\n",
    "print('done')"
   ]
  },
  {
   "cell_type": "code",
   "execution_count": 4,
   "metadata": {
    "scrolled": true
   },
   "outputs": [
    {
     "data": {
      "text/html": [
       "<div>\n",
       "<style scoped>\n",
       "    .dataframe tbody tr th:only-of-type {\n",
       "        vertical-align: middle;\n",
       "    }\n",
       "\n",
       "    .dataframe tbody tr th {\n",
       "        vertical-align: top;\n",
       "    }\n",
       "\n",
       "    .dataframe thead th {\n",
       "        text-align: right;\n",
       "    }\n",
       "</style>\n",
       "<table border=\"1\" class=\"dataframe\">\n",
       "  <thead>\n",
       "    <tr style=\"text-align: right;\">\n",
       "      <th></th>\n",
       "      <th>open</th>\n",
       "      <th>high</th>\n",
       "      <th>low</th>\n",
       "      <th>close</th>\n",
       "      <th>week_days</th>\n",
       "      <th>week_days_exp_1</th>\n",
       "      <th>week_days_exp_inv_1</th>\n",
       "      <th>week_days_pow_1</th>\n",
       "      <th>week_days_exp_2</th>\n",
       "      <th>week_days_exp_inv_2</th>\n",
       "      <th>...</th>\n",
       "      <th>week_days_pow_16</th>\n",
       "      <th>week_days_exp_17</th>\n",
       "      <th>week_days_exp_inv_17</th>\n",
       "      <th>week_days_pow_17</th>\n",
       "      <th>week_days_exp_18</th>\n",
       "      <th>week_days_exp_inv_18</th>\n",
       "      <th>week_days_pow_18</th>\n",
       "      <th>week_days_exp_19</th>\n",
       "      <th>week_days_exp_inv_19</th>\n",
       "      <th>week_days_pow_19</th>\n",
       "    </tr>\n",
       "  </thead>\n",
       "  <tbody>\n",
       "    <tr>\n",
       "      <th>open</th>\n",
       "      <td>1.000000</td>\n",
       "      <td>0.999541</td>\n",
       "      <td>0.999531</td>\n",
       "      <td>0.999298</td>\n",
       "      <td>0.012883</td>\n",
       "      <td>0.018821</td>\n",
       "      <td>-0.008516</td>\n",
       "      <td>0.012883</td>\n",
       "      <td>0.016881</td>\n",
       "      <td>-0.006414</td>\n",
       "      <td>...</td>\n",
       "      <td>0.012401</td>\n",
       "      <td>0.005469</td>\n",
       "      <td>-0.005228</td>\n",
       "      <td>0.011367</td>\n",
       "      <td>0.005469</td>\n",
       "      <td>-0.005228</td>\n",
       "      <td>0.010487</td>\n",
       "      <td>0.005469</td>\n",
       "      <td>-0.005228</td>\n",
       "      <td>0.009742</td>\n",
       "    </tr>\n",
       "    <tr>\n",
       "      <th>high</th>\n",
       "      <td>0.999541</td>\n",
       "      <td>1.000000</td>\n",
       "      <td>0.999257</td>\n",
       "      <td>0.999678</td>\n",
       "      <td>0.012384</td>\n",
       "      <td>0.018469</td>\n",
       "      <td>-0.008028</td>\n",
       "      <td>0.012384</td>\n",
       "      <td>0.016659</td>\n",
       "      <td>-0.005997</td>\n",
       "      <td>...</td>\n",
       "      <td>0.012232</td>\n",
       "      <td>0.005331</td>\n",
       "      <td>-0.004869</td>\n",
       "      <td>0.011204</td>\n",
       "      <td>0.005331</td>\n",
       "      <td>-0.004869</td>\n",
       "      <td>0.010329</td>\n",
       "      <td>0.005331</td>\n",
       "      <td>-0.004869</td>\n",
       "      <td>0.009587</td>\n",
       "    </tr>\n",
       "    <tr>\n",
       "      <th>low</th>\n",
       "      <td>0.999531</td>\n",
       "      <td>0.999257</td>\n",
       "      <td>1.000000</td>\n",
       "      <td>0.999613</td>\n",
       "      <td>0.012899</td>\n",
       "      <td>0.018539</td>\n",
       "      <td>-0.008848</td>\n",
       "      <td>0.012899</td>\n",
       "      <td>0.016730</td>\n",
       "      <td>-0.006854</td>\n",
       "      <td>...</td>\n",
       "      <td>0.012375</td>\n",
       "      <td>0.005655</td>\n",
       "      <td>-0.005710</td>\n",
       "      <td>0.011372</td>\n",
       "      <td>0.005655</td>\n",
       "      <td>-0.005710</td>\n",
       "      <td>0.010518</td>\n",
       "      <td>0.005655</td>\n",
       "      <td>-0.005710</td>\n",
       "      <td>0.009795</td>\n",
       "    </tr>\n",
       "    <tr>\n",
       "      <th>close</th>\n",
       "      <td>0.999298</td>\n",
       "      <td>0.999678</td>\n",
       "      <td>0.999613</td>\n",
       "      <td>1.000000</td>\n",
       "      <td>0.012346</td>\n",
       "      <td>0.018214</td>\n",
       "      <td>-0.008104</td>\n",
       "      <td>0.012346</td>\n",
       "      <td>0.016397</td>\n",
       "      <td>-0.006075</td>\n",
       "      <td>...</td>\n",
       "      <td>0.012035</td>\n",
       "      <td>0.005223</td>\n",
       "      <td>-0.004931</td>\n",
       "      <td>0.011021</td>\n",
       "      <td>0.005223</td>\n",
       "      <td>-0.004931</td>\n",
       "      <td>0.010158</td>\n",
       "      <td>0.005223</td>\n",
       "      <td>-0.004931</td>\n",
       "      <td>0.009426</td>\n",
       "    </tr>\n",
       "  </tbody>\n",
       "</table>\n",
       "<p>4 rows × 62 columns</p>\n",
       "</div>"
      ],
      "text/plain": [
       "           open      high       low     close  week_days  week_days_exp_1  \\\n",
       "open   1.000000  0.999541  0.999531  0.999298   0.012883         0.018821   \n",
       "high   0.999541  1.000000  0.999257  0.999678   0.012384         0.018469   \n",
       "low    0.999531  0.999257  1.000000  0.999613   0.012899         0.018539   \n",
       "close  0.999298  0.999678  0.999613  1.000000   0.012346         0.018214   \n",
       "\n",
       "       week_days_exp_inv_1  week_days_pow_1  week_days_exp_2  \\\n",
       "open             -0.008516         0.012883         0.016881   \n",
       "high             -0.008028         0.012384         0.016659   \n",
       "low              -0.008848         0.012899         0.016730   \n",
       "close            -0.008104         0.012346         0.016397   \n",
       "\n",
       "       week_days_exp_inv_2  ...  week_days_pow_16  week_days_exp_17  \\\n",
       "open             -0.006414  ...          0.012401          0.005469   \n",
       "high             -0.005997  ...          0.012232          0.005331   \n",
       "low              -0.006854  ...          0.012375          0.005655   \n",
       "close            -0.006075  ...          0.012035          0.005223   \n",
       "\n",
       "       week_days_exp_inv_17  week_days_pow_17  week_days_exp_18  \\\n",
       "open              -0.005228          0.011367          0.005469   \n",
       "high              -0.004869          0.011204          0.005331   \n",
       "low               -0.005710          0.011372          0.005655   \n",
       "close             -0.004931          0.011021          0.005223   \n",
       "\n",
       "       week_days_exp_inv_18  week_days_pow_18  week_days_exp_19  \\\n",
       "open              -0.005228          0.010487          0.005469   \n",
       "high              -0.004869          0.010329          0.005331   \n",
       "low               -0.005710          0.010518          0.005655   \n",
       "close             -0.004931          0.010158          0.005223   \n",
       "\n",
       "       week_days_exp_inv_19  week_days_pow_19  \n",
       "open              -0.005228          0.009742  \n",
       "high              -0.004869          0.009587  \n",
       "low               -0.005710          0.009795  \n",
       "close             -0.004931          0.009426  \n",
       "\n",
       "[4 rows x 62 columns]"
      ]
     },
     "execution_count": 4,
     "metadata": {},
     "output_type": "execute_result"
    }
   ],
   "source": [
    "_reasonableCorelation"
   ]
  },
  {
   "cell_type": "code",
   "execution_count": 6,
   "metadata": {},
   "outputs": [
    {
     "data": {
      "text/plain": [
       "(61, 62)"
      ]
     },
     "execution_count": 6,
     "metadata": {},
     "output_type": "execute_result"
    }
   ],
   "source": [
    "_correlation.shape"
   ]
  },
  {
   "cell_type": "code",
   "execution_count": 7,
   "metadata": {},
   "outputs": [
    {
     "name": "stdout",
     "output_type": "stream",
     "text": [
      "done\n"
     ]
    }
   ],
   "source": [
    "from utilities.dataVisuvalization import displayHeatMap\n",
    "displayHeatMap(_reasonableCorelation)\n",
    "print('done')"
   ]
  },
  {
   "cell_type": "code",
   "execution_count": null,
   "metadata": {},
   "outputs": [],
   "source": []
  },
  {
   "cell_type": "code",
   "execution_count": null,
   "metadata": {},
   "outputs": [],
   "source": []
  },
  {
   "cell_type": "code",
   "execution_count": null,
   "metadata": {},
   "outputs": [],
   "source": []
  },
  {
   "cell_type": "code",
   "execution_count": null,
   "metadata": {},
   "outputs": [],
   "source": []
  }
 ],
 "metadata": {
  "kernelspec": {
   "display_name": "Python 3",
   "language": "python",
   "name": "python3"
  },
  "language_info": {
   "codemirror_mode": {
    "name": "ipython",
    "version": 3
   },
   "file_extension": ".py",
   "mimetype": "text/x-python",
   "name": "python",
   "nbconvert_exporter": "python",
   "pygments_lexer": "ipython3",
   "version": "3.7.3"
  }
 },
 "nbformat": 4,
 "nbformat_minor": 2
}
