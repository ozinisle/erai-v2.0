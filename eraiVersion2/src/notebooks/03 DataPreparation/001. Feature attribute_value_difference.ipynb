{
 "cells": [
  {
   "cell_type": "code",
   "execution_count": 1,
   "metadata": {
    "scrolled": true
   },
   "outputs": [],
   "source": [
    "dataName = 'adani'\n",
    "dataFrequency = '1h'\n",
    "featureIndexStamp = \"001_\"\n",
    "requiredMinimumCorrelation = -1\n",
    "\n",
    "print('done')"
   ]
  },
  {
   "cell_type": "code",
   "execution_count": 2,
   "metadata": {
    "scrolled": true
   },
   "outputs": [
    {
     "name": "stdout",
     "output_type": "stream",
     "text": [
      "done\n",
      "into method doBasicOperation\n",
      " retrieving values configured in >>> /Users/493055/Desktop/dev/erai-v2.0/erai-v2.0/eraiVersion2/src/config/config.json\n",
      "added INPUT FEATURES >>> 4 count >>> open-high-low-close\n",
      "before return statement of method doBasicOperation \n",
      "done\n"
     ]
    }
   ],
   "source": [
    "# Include python files defined in the library folder to help facilitate the stock price Prediction \n",
    "import os\n",
    "import sys  \n",
    "module_path = os.path.abspath('../../'+os.path.join('.'))\n",
    "\n",
    "sys.path.append(module_path)\n",
    "print('done')\n",
    "\n",
    "from dataPreparation import *\n",
    "from dataPreprocessing import *\n",
    "from utilities import *\n",
    "from config import *\n",
    "\n",
    "from dataPreparation.featurePreparation import doBasicOperation\n",
    "from dataPreparation.featurePreparation import getAttributeDifferenceBasedFeatures\n",
    "from dataPreparation.featurePreparation import prepareFeatureWithData\n",
    "\n",
    "_basicDf = doBasicOperation(dataName, dataFrequency)\n",
    "print('done')"
   ]
  },
  {
   "cell_type": "code",
   "execution_count": 3,
   "metadata": {
    "scrolled": true
   },
   "outputs": [
    {
     "name": "stdout",
     "output_type": "stream",
     "text": [
      " retrieving values configured in >>> /Users/493055/Desktop/dev/erai-v2.0/erai-v2.0/eraiVersion2/src/config/config.json\n",
      "requiredMinimumCorrelation is >>> 0.7\n"
     ]
    },
    {
     "name": "stderr",
     "output_type": "stream",
     "text": [
      "/opt/anaconda3/lib/python3.7/site-packages/tqdm/std.py:648: FutureWarning: The Panel class is removed from pandas. Accessing it from the top-level namespace will also be removed in the next version\n",
      "  from pandas import Panel\n",
      "/Users/493055/Desktop/dev/erai-v2.0/erai-v2.0/eraiVersion2/src/dataPreparation/featurePreparation.py:158: RuntimeWarning: divide by zero encountered in power\n",
      "  ] for iterator in range(1,variation_degree+1)]\n"
     ]
    },
    {
     "name": "stdout",
     "output_type": "stream",
     "text": [
      "preprocessedFolderPath interim test >>> /data/adani/processed/1h/preProcessedData\n",
      "outputFolderPath interim test >>> /Users/493055/Desktop/dev/erai-v2.0/erai-v2.0/eraiVersion2/data/adani/processed/1h\n",
      " checking if folder existis >>>/Users/493055/Desktop/dev/erai-v2.0/erai-v2.0/eraiVersion2/data/adani/processed/1h/features\n",
      "featuresFolder interim test >>> /Users/493055/Desktop/dev/erai-v2.0/erai-v2.0/eraiVersion2/data/adani/processed/1h/features\n",
      " checking if folder existis >>>/Users/493055/Desktop/dev/erai-v2.0/erai-v2.0/eraiVersion2/data/adani/processed/1h/features/rawFeatures\n",
      "rawFeaturesFolder interim test >>> /Users/493055/Desktop/dev/erai-v2.0/erai-v2.0/eraiVersion2/data/adani/processed/1h/features/rawFeatures\n",
      " checking if folder existis >>>/Users/493055/Desktop/dev/erai-v2.0/erai-v2.0/eraiVersion2/data/adani/processed/1h/features/filteredFeatures\n",
      "filteredFeaturesFolder interim test >>> /Users/493055/Desktop/dev/erai-v2.0/erai-v2.0/eraiVersion2/data/adani/processed/1h/features/filteredFeatures\n",
      " checking if folder existis >>>/Users/493055/Desktop/dev/erai-v2.0/erai-v2.0/eraiVersion2/data/adani/processed/1h/features/correlations\n",
      "correlationsFolder interim test >>> /Users/493055/Desktop/dev/erai-v2.0/erai-v2.0/eraiVersion2/data/adani/processed/1h/features/correlations\n",
      " checking if folder existis >>>/Users/493055/Desktop/dev/erai-v2.0/erai-v2.0/eraiVersion2/data/adani/processed/1h/features/correlations/reasonableCorrelations\n",
      "reasonableCorrelationsFolder interim test >>> /Users/493055/Desktop/dev/erai-v2.0/erai-v2.0/eraiVersion2/data/adani/processed/1h/features/correlations/reasonableCorrelations\n",
      "trainableFeaturesListFilePath interim test >>> /Users/493055/Desktop/dev/erai-v2.0/erai-v2.0/eraiVersion2/data/adani/processed/1h/features/filteredFeatures/001_open_close_diff_trainableFeaturesList.csv\n",
      "currentFeatureListFilePath interim test >>> /Users/493055/Desktop/dev/erai-v2.0/erai-v2.0/eraiVersion2/data/adani/processed/1h/features/rawFeatures/001_open_close_diff_variations_list.csv\n",
      "currentFeatureCorrelationListFilePath interim test >>> /Users/493055/Desktop/dev/erai-v2.0/erai-v2.0/eraiVersion2/data/adani/processed/1h/features/correlations/001_open_close_diff_variations_correlation_list.csv\n",
      "reasonableCorelationListFilePath interim test >>> /Users/493055/Desktop/dev/erai-v2.0/erai-v2.0/eraiVersion2/data/adani/processed/1h/features/correlations/reasonableCorrelations/001_open_close_diff_variations_reasonable_correlation_list.csv\n",
      "cannot delete file as the file does not exist >>/Users/493055/Desktop/dev/erai-v2.0/erai-v2.0/eraiVersion2/data/adani/processed/1h/features/filteredFeatures/001_open_close_diff_trainableFeaturesList.csv\n",
      "File deleted >>> /Users/493055/Desktop/dev/erai-v2.0/erai-v2.0/eraiVersion2/data/adani/processed/1h/features/rawFeatures/001_open_close_diff_variations_list.csv\n",
      "File deleted >>> /Users/493055/Desktop/dev/erai-v2.0/erai-v2.0/eraiVersion2/data/adani/processed/1h/features/correlations/001_open_close_diff_variations_correlation_list.csv\n",
      "File deleted >>> /Users/493055/Desktop/dev/erai-v2.0/erai-v2.0/eraiVersion2/data/adani/processed/1h/features/correlations/reasonableCorrelations/001_open_close_diff_variations_reasonable_correlation_list.csv\n",
      "currentFeatureListFilePath interim test >>> /Users/493055/Desktop/dev/erai-v2.0/erai-v2.0/eraiVersion2/data/adani/processed/1h/features/rawFeatures/001_open_close_diff_variations_list.csv\n"
     ]
    },
    {
     "ename": "AttributeError",
     "evalue": "'NoneType' object has no attribute 'shape'",
     "output_type": "error",
     "traceback": [
      "\u001b[0;31m---------------------------------------------------------------------------\u001b[0m",
      "\u001b[0;31mAttributeError\u001b[0m                            Traceback (most recent call last)",
      "\u001b[0;32m<ipython-input-3-ebec544e410b>\u001b[0m in \u001b[0;36m<module>\u001b[0;34m\u001b[0m\n\u001b[1;32m      6\u001b[0m             _basicDf,featureIndexStamp,requiredMinimumCorrelation=requiredMinimumCorrelation)\n\u001b[1;32m      7\u001b[0m \u001b[0;34m\u001b[0m\u001b[0m\n\u001b[0;32m----> 8\u001b[0;31m \u001b[0m_newTrainingSetDf\u001b[0m\u001b[0;34m.\u001b[0m\u001b[0mshape\u001b[0m\u001b[0;34m,\u001b[0m\u001b[0m_trainableFeaturesDf\u001b[0m\u001b[0;34m.\u001b[0m\u001b[0mshape\u001b[0m\u001b[0;34m\u001b[0m\u001b[0;34m\u001b[0m\u001b[0m\n\u001b[0m",
      "\u001b[0;31mAttributeError\u001b[0m: 'NoneType' object has no attribute 'shape'"
     ]
    }
   ],
   "source": [
    "featureOfInterest = 'attribute_value_difference'\n",
    "\n",
    "newFeatureDf = getAttributeDifferenceBasedFeatures(_basicDf)\n",
    "\n",
    "_correlation, _reasonableCorelation, _newTrainingSetDf, _trainableFeaturesDf = prepareFeatureWithData(dataName,dataFrequency,newFeatureDf,\n",
    "            _basicDf,featureIndexStamp,requiredMinimumCorrelation=requiredMinimumCorrelation)\n",
    "\n",
    "_newTrainingSetDf.shape,_trainableFeaturesDf.shape"
   ]
  },
  {
   "cell_type": "code",
   "execution_count": null,
   "metadata": {
    "scrolled": true
   },
   "outputs": [],
   "source": []
  },
  {
   "cell_type": "code",
   "execution_count": null,
   "metadata": {},
   "outputs": [],
   "source": [
    "_reasonableCorelation.sort_values('open') "
   ]
  },
  {
   "cell_type": "code",
   "execution_count": null,
   "metadata": {},
   "outputs": [],
   "source": [
    "# from utilities.dataVisuvalization import displayHeatMap\n",
    "# displayHeatMap(_reasonableCorelation)\n",
    "# print('done')\n",
    "\n",
    "_reasonableCorelation.shape"
   ]
  },
  {
   "cell_type": "code",
   "execution_count": null,
   "metadata": {},
   "outputs": [],
   "source": [
    "outputFeatureLength=4\n",
    "corrBatchSizeForInspection = 10\n",
    "totalCorrLen = len(_reasonableCorelation.index)\n",
    "featureLen = totalCorrLen-outputFeatureLength\n",
    "limit = featureLen/corrBatchSizeForInspection\n",
    "quotient = int(limit)\n",
    "reminder = featureLen - quotient\n",
    "\n",
    "corrBatch = [_reasonableCorelation.index[0:outputFeatureLength].append(\n",
    "    _reasonableCorelation.index[outputFeatureLength+(corrBatchSizeForInspection*itr):outputFeatureLength+\n",
    "                                (corrBatchSizeForInspection*(itr+1))]) for itr in range(quotient)]\n",
    "\n",
    "result= None\n",
    "if reminder>0:\n",
    "    corrBatch.append(_reasonableCorelation.index[outputFeatureLength+(quotient*corrBatchSizeForInspection):])\n",
    "\n",
    "#corrBatch\n",
    "correlationForInspection = [_reasonableCorelation[corrBatch[corrItr]].corr()  for corrItr in range(len(corrBatch))]\n",
    "\n",
    "#_reasonableCorelation[corrBatch[0]].corr()[['open','close','high','low']]\n",
    "\n",
    "correlationForInspection[0][['open','close','high','low']]\n",
    "correlationForInspection[1][['open','close','high','low']]"
   ]
  },
  {
   "cell_type": "code",
   "execution_count": null,
   "metadata": {
    "scrolled": true
   },
   "outputs": [],
   "source": [
    "# from utilities.dataVisuvalization import displayHeatMap\n",
    "# displayHeatMap(_reasonableCorelation)\n",
    "# print('done')"
   ]
  },
  {
   "cell_type": "code",
   "execution_count": null,
   "metadata": {},
   "outputs": [],
   "source": [
    "manullyDecidedIndexList=['open','high','low','close',\n",
    "                                             'open_high_diff_exp_1','close_high_diff_exp_1',\n",
    "                                            'open_low_diff_exp_inv_1','close_low_diff_exp_inv_2',\n",
    "                                             'high_low_diff_exp_inv_2'\n",
    "                                            ]\n",
    "manuallyDecidedListDf = _reasonableCorelation[manullyDecidedIndexList]\n",
    "\n",
    "manuallyDecidedListDf[manuallyDecidedListDf.index.isin(manullyDecidedIndexList)]"
   ]
  },
  {
   "cell_type": "code",
   "execution_count": null,
   "metadata": {
    "scrolled": true
   },
   "outputs": [],
   "source": [
    "from utilities.dataVisuvalization import displayHeatMap\n",
    "displayHeatMap(manuallyDecidedListDf)\n",
    "print('done')"
   ]
  },
  {
   "cell_type": "code",
   "execution_count": null,
   "metadata": {},
   "outputs": [],
   "source": []
  },
  {
   "cell_type": "code",
   "execution_count": null,
   "metadata": {},
   "outputs": [],
   "source": []
  }
 ],
 "metadata": {
  "kernelspec": {
   "display_name": "Python 3",
   "language": "python",
   "name": "python3"
  },
  "language_info": {
   "codemirror_mode": {
    "name": "ipython",
    "version": 3
   },
   "file_extension": ".py",
   "mimetype": "text/x-python",
   "name": "python",
   "nbconvert_exporter": "python",
   "pygments_lexer": "ipython3",
   "version": "3.7.4"
  }
 },
 "nbformat": 4,
 "nbformat_minor": 2
}
