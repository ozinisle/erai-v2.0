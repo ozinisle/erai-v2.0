{
 "cells": [
  {
   "cell_type": "code",
   "execution_count": 1,
   "metadata": {},
   "outputs": [
    {
     "name": "stdout",
     "output_type": "stream",
     "text": [
      "done\n"
     ]
    }
   ],
   "source": [
    "dataName = 'adani'\n",
    "dataFrequency = '1h'\n",
    "featureIndexStamp = \"007_\"\n",
    "\n",
    "print('done')"
   ]
  },
  {
   "cell_type": "code",
   "execution_count": 2,
   "metadata": {
    "scrolled": false
   },
   "outputs": [
    {
     "name": "stdout",
     "output_type": "stream",
     "text": [
      "done\n",
      "into method doBasicOperation\n",
      " retrieving values configured in >>> /Users/493055/Desktop/dev/erai-v2.0/erai-v2.0/eraiVersion2/src/config/config.json\n",
      "added INPUT FEATURES >>> 4 count >>> open-high-low-close\n",
      "before return statement of method doBasicOperation \n",
      "done\n"
     ]
    }
   ],
   "source": [
    "# Include python files defined in the library folder to help facilitate the stock price Prediction \n",
    "import os\n",
    "import sys  \n",
    "module_path = os.path.abspath('../../'+os.path.join('.'))\n",
    "\n",
    "sys.path.append(module_path)\n",
    "print('done')\n",
    "\n",
    "from dataPreparation import *\n",
    "from dataPreprocessing import *\n",
    "from utilities import *\n",
    "\n",
    "from dataPreparation.featurePreparation import doBasicOperation\n",
    "from dataPreparation.featurePreparation import prepareFeatureWithData\n",
    "from dataPreparation.resolveDataPatterns import getRedGreenCandlesCatogizedBySizeDf\n",
    "\n",
    "_basicDf= doBasicOperation(dataName,\n",
    "       dataFrequency)\n",
    "\n",
    "print('done')"
   ]
  },
  {
   "cell_type": "code",
   "execution_count": 5,
   "metadata": {
    "scrolled": true
   },
   "outputs": [
    {
     "name": "stdout",
     "output_type": "stream",
     "text": [
      "boundary values is none\n",
      "jupyterNodePath >>> /Users/493055/Desktop/dev/erai-v2.0/erai-v2.0/eraiVersion2\n",
      " retrieving values configured in >>> /Users/493055/Desktop/dev/erai-v2.0/erai-v2.0/eraiVersion2/src/config/config.json\n",
      "using configured boundary values - do not update configurations unless u r absolutely sure of it\n",
      " retrieving values configured in >>> /Users/493055/Desktop/dev/erai-v2.0/erai-v2.0/eraiVersion2/src/config/config.json\n",
      "requiredMinimumCorrelation is >>> 0.7\n",
      "_createNewTrainingSetWithFeatureVariations check point 1 >>> variation_degree >>> 20\n"
     ]
    },
    {
     "name": "stderr",
     "output_type": "stream",
     "text": [
      "/opt/anaconda3/lib/python3.7/site-packages/tqdm/std.py:648: FutureWarning: The Panel class is removed from pandas. Accessing it from the top-level namespace will also be removed in the next version\n",
      "  from pandas import Panel\n",
      "/Users/493055/Desktop/dev/erai-v2.0/erai-v2.0/eraiVersion2/src/dataPreparation/featurePreparation.py:159: RuntimeWarning: divide by zero encountered in power\n",
      "  ] for iterator in range(1,variation_degree+1)]\n"
     ]
    },
    {
     "name": "stdout",
     "output_type": "stream",
     "text": [
      "_createNewTrainingSetWithFeatureVariations check point 2\n",
      "_createNewTrainingSetWithFeatureVariations check point 3\n",
      "_createNewTrainingSetWithFeatureVariations check point 4\n",
      "_createNewTrainingSetWithFeatureVariations check point 5\n",
      "preprocessedFolderPath interim test >>> /data/adani/processed/1h/preProcessedData\n",
      "outputFolderPath interim test >>> /Users/493055/Desktop/dev/erai-v2.0/erai-v2.0/eraiVersion2/data/adani/processed/1h\n",
      " checking if folder existis >>>/Users/493055/Desktop/dev/erai-v2.0/erai-v2.0/eraiVersion2/data/adani/processed/1h/features\n",
      "featuresFolder interim test >>> /Users/493055/Desktop/dev/erai-v2.0/erai-v2.0/eraiVersion2/data/adani/processed/1h/features\n",
      " checking if folder existis >>>/Users/493055/Desktop/dev/erai-v2.0/erai-v2.0/eraiVersion2/data/adani/processed/1h/features/rawFeatures\n",
      "rawFeaturesFolder interim test >>> /Users/493055/Desktop/dev/erai-v2.0/erai-v2.0/eraiVersion2/data/adani/processed/1h/features/rawFeatures\n",
      " checking if folder existis >>>/Users/493055/Desktop/dev/erai-v2.0/erai-v2.0/eraiVersion2/data/adani/processed/1h/features/filteredFeatures\n",
      "filteredFeaturesFolder interim test >>> /Users/493055/Desktop/dev/erai-v2.0/erai-v2.0/eraiVersion2/data/adani/processed/1h/features/filteredFeatures\n",
      " checking if folder existis >>>/Users/493055/Desktop/dev/erai-v2.0/erai-v2.0/eraiVersion2/data/adani/processed/1h/features/correlations\n",
      "correlationsFolder interim test >>> /Users/493055/Desktop/dev/erai-v2.0/erai-v2.0/eraiVersion2/data/adani/processed/1h/features/correlations\n",
      " checking if folder existis >>>/Users/493055/Desktop/dev/erai-v2.0/erai-v2.0/eraiVersion2/data/adani/processed/1h/features/correlations/reasonableCorrelations\n",
      "reasonableCorrelationsFolder interim test >>> /Users/493055/Desktop/dev/erai-v2.0/erai-v2.0/eraiVersion2/data/adani/processed/1h/features/correlations/reasonableCorrelations\n",
      "trainableFeaturesListFilePath interim test >>> /Users/493055/Desktop/dev/erai-v2.0/erai-v2.0/eraiVersion2/data/adani/processed/1h/features/filteredFeatures/007_redCandlesBySize_trainableFeaturesList.csv\n",
      "currentFeatureListFilePath interim test >>> /Users/493055/Desktop/dev/erai-v2.0/erai-v2.0/eraiVersion2/data/adani/processed/1h/features/rawFeatures/007_redCandlesBySize_variations_list.csv\n",
      "currentFeatureCorrelationListFilePath interim test >>> /Users/493055/Desktop/dev/erai-v2.0/erai-v2.0/eraiVersion2/data/adani/processed/1h/features/correlations/007_redCandlesBySize_variations_correlation_list.csv\n",
      "reasonableCorelationListFilePath interim test >>> /Users/493055/Desktop/dev/erai-v2.0/erai-v2.0/eraiVersion2/data/adani/processed/1h/features/correlations/reasonableCorrelations/007_redCandlesBySize_variations_reasonable_correlation_list.csv\n",
      "cannot delete file as the file does not exist >>/Users/493055/Desktop/dev/erai-v2.0/erai-v2.0/eraiVersion2/data/adani/processed/1h/features/filteredFeatures/007_redCandlesBySize_trainableFeaturesList.csv\n",
      "cannot delete file as the file does not exist >>/Users/493055/Desktop/dev/erai-v2.0/erai-v2.0/eraiVersion2/data/adani/processed/1h/features/rawFeatures/007_redCandlesBySize_variations_list.csv\n",
      "cannot delete file as the file does not exist >>/Users/493055/Desktop/dev/erai-v2.0/erai-v2.0/eraiVersion2/data/adani/processed/1h/features/correlations/007_redCandlesBySize_variations_correlation_list.csv\n",
      "cannot delete file as the file does not exist >>/Users/493055/Desktop/dev/erai-v2.0/erai-v2.0/eraiVersion2/data/adani/processed/1h/features/correlations/reasonableCorrelations/007_redCandlesBySize_variations_reasonable_correlation_list.csv\n",
      "currentFeatureListFilePath interim test >>> /Users/493055/Desktop/dev/erai-v2.0/erai-v2.0/eraiVersion2/data/adani/processed/1h/features/rawFeatures/007_redCandlesBySize_variations_list.csv\n",
      "newTrainingSetDf shape>>>8350,352\n",
      "trainableFeaturesDf shape>>>8350,4\n",
      " retrieving values configured in >>> /Users/493055/Desktop/dev/erai-v2.0/erai-v2.0/eraiVersion2/src/config/config.json\n",
      " updating config file >>> /Users/493055/Desktop/dev/erai-v2.0/erai-v2.0/eraiVersion2/src/config/config.json\n",
      " successfully updated config file >>> (try block) /Users/493055/Desktop/dev/erai-v2.0/erai-v2.0/eraiVersion2/src/config/config.json with data >>>{\"variationDegreeForFeatureGeneration\": 20, \"requiredMinimumFeatureCorrelationWithOutputData\": 0.7, \"adani\": {\"1h\": {\"preProcessedDataFilePath\": \"/data/adani/processed/1h/preProcessedData/processedRawData.csv\", \"trainableFeaturesListFile\": \"/Users/493055/Desktop/dev/erai-v2.0/erai-v2.0/eraiVersion2/data/adani/processed/1h/features/filteredFeatures/007_redCandlesBySize_trainableFeaturesList.csv\", \"redGreenCandleSizeBoundaries\": [[-0.40000000000000213, 0.44999999999999574], [-0.25, 0.25], [-0.14999999999999858, 0.14999999999999858], [-0.09999999999999432, 0.05000000000000426]]}}}\n"
     ]
    }
   ],
   "source": [
    "import pandas as pd\n",
    "import numpy as np\n",
    "\n",
    "featureOfInterest = 'is_big_red_or_green_Candle'\n",
    "#_basicDf=_basicDf[1:10]\n",
    "\n",
    "featureName=['is_big_red_candle','is_big_green_candle','is_very_big_red_candle','is_very_big_green_candle']\n",
    "\n",
    "m = _basicDf.shape[0]\n",
    "\n",
    "newFeatureDf = getRedGreenCandlesCatogizedBySizeDf(_basicDf,dataName, dataFrequency)\n",
    "\n",
    "_correlation, _reasonableCorelation, _newTrainingSetDf, _trainableFeaturesDf= prepareFeatureWithData(dataName,\n",
    "            dataFrequency,newFeatureDf,_basicDf,featureIndexStamp)"
   ]
  },
  {
   "cell_type": "code",
   "execution_count": 4,
   "metadata": {
    "scrolled": false
   },
   "outputs": [
    {
     "ename": "NameError",
     "evalue": "name '_correlation' is not defined",
     "output_type": "error",
     "traceback": [
      "\u001b[0;31m---------------------------------------------------------------------------\u001b[0m",
      "\u001b[0;31mNameError\u001b[0m                                 Traceback (most recent call last)",
      "\u001b[0;32m<ipython-input-4-a71f035c707b>\u001b[0m in \u001b[0;36m<module>\u001b[0;34m\u001b[0m\n\u001b[0;32m----> 1\u001b[0;31m \u001b[0m_correlation\u001b[0m\u001b[0;34m.\u001b[0m\u001b[0mshape\u001b[0m\u001b[0;34m\u001b[0m\u001b[0;34m\u001b[0m\u001b[0m\n\u001b[0m",
      "\u001b[0;31mNameError\u001b[0m: name '_correlation' is not defined"
     ]
    }
   ],
   "source": [
    "_correlation.shape"
   ]
  },
  {
   "cell_type": "code",
   "execution_count": null,
   "metadata": {
    "scrolled": true
   },
   "outputs": [],
   "source": [
    "_reasonableCorelation"
   ]
  },
  {
   "cell_type": "code",
   "execution_count": null,
   "metadata": {
    "scrolled": true
   },
   "outputs": [],
   "source": [
    "# from utilities.dataVisuvalization import displayHeatMap\n",
    "# displayHeatMap(_reasonableCorelation)\n",
    "# print('done')"
   ]
  },
  {
   "cell_type": "markdown",
   "metadata": {
    "scrolled": true
   },
   "source": [
    "# Manually Selecing features"
   ]
  },
  {
   "cell_type": "code",
   "execution_count": null,
   "metadata": {},
   "outputs": [],
   "source": [
    "#_reasonableCorelation.sort_values('open',ascending=False)\n",
    "manullyDecidedIndexList=['open','high','low','close','redCandlesBySizeTimesMagnitude_pow_3','greenCandlesBySizeTimesMagnitude_pow_3']\n",
    "\n",
    "manuallyDecidedListDf = _reasonableCorelation[manullyDecidedIndexList]\n",
    "manuallyDecidedListDf=manuallyDecidedListDf[manuallyDecidedListDf.index.isin(manullyDecidedIndexList)]\n",
    "manuallyDecidedListDf"
   ]
  },
  {
   "cell_type": "code",
   "execution_count": null,
   "metadata": {},
   "outputs": [],
   "source": [
    "from utilities.dataVisuvalization import displayHeatMap\n",
    "displayHeatMap(manuallyDecidedListDf)\n",
    "print('done')"
   ]
  }
 ],
 "metadata": {
  "kernelspec": {
   "display_name": "Python 3",
   "language": "python",
   "name": "python3"
  },
  "language_info": {
   "codemirror_mode": {
    "name": "ipython",
    "version": 3
   },
   "file_extension": ".py",
   "mimetype": "text/x-python",
   "name": "python",
   "nbconvert_exporter": "python",
   "pygments_lexer": "ipython3",
   "version": "3.7.4"
  }
 },
 "nbformat": 4,
 "nbformat_minor": 2
}
