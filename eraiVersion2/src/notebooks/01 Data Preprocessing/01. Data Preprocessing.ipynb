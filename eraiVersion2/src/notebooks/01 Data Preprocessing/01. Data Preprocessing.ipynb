{
 "cells": [
  {
   "cell_type": "markdown",
   "metadata": {},
   "source": [
    "## Configure Input"
   ]
  },
  {
   "cell_type": "code",
   "execution_count": 1,
   "metadata": {},
   "outputs": [],
   "source": [
    "dataName = 'adani'\n",
    "dataFrequency = '1h'\n",
    "raw_data_source_folder = 'data/'+dataName+'/raw/' +dataFrequency"
   ]
  },
  {
   "cell_type": "code",
   "execution_count": 4,
   "metadata": {
    "scrolled": true
   },
   "outputs": [
    {
     "name": "stdout",
     "output_type": "stream",
     "text": [
      "module_path >>> C:\\Users\\kalagi01\\Desktop\\dev\\eraiVersion2\\src <<< appended to sys path - Mandatory for the pythons files in src folder to be recognized\n"
     ]
    }
   ],
   "source": [
    "# Include python files defined in the library folder to help facilitate the stock price Prediction \n",
    "import os\n",
    "import sys  \n",
    "module_path = os.path.abspath('../../'+os.path.join('.'))\n",
    "\n",
    "sys.path.append(module_path)\n",
    "\n",
    "print(\"module_path >>> \" + module_path + \" <<< appended to sys path - Mandatory for the pythons files in src folder to be recognized\")"
   ]
  },
  {
   "cell_type": "code",
   "execution_count": 5,
   "metadata": {
    "scrolled": true
   },
   "outputs": [
    {
     "name": "stdout",
     "output_type": "stream",
     "text": [
      " data pre-processing >> imported dependencies\n",
      "looping through all the files to create input data\n",
      "reading input file >>> C:\\Users\\kalagi01\\Desktop\\dev\\eraiVersion2/data/adani/raw/1h\\01_2015.json ...\n",
      "File read - SUCCESS\n",
      "reading input file >>> C:\\Users\\kalagi01\\Desktop\\dev\\eraiVersion2/data/adani/raw/1h\\02_2016.json ...\n",
      "File read - SUCCESS\n",
      "reading input file >>> C:\\Users\\kalagi01\\Desktop\\dev\\eraiVersion2/data/adani/raw/1h\\03_2017.json ...\n",
      "File read - SUCCESS\n",
      "reading input file >>> C:\\Users\\kalagi01\\Desktop\\dev\\eraiVersion2/data/adani/raw/1h\\04_2018.json ...\n",
      "File read - SUCCESS\n",
      "reading input file >>> C:\\Users\\kalagi01\\Desktop\\dev\\eraiVersion2/data/adani/raw/1h\\05_1JanTo09Dec2019.json ...\n",
      "File read - SUCCESS\n",
      "added prior_holidays feature in pre-processed data\n",
      "added following_holidays feature in pre-processed data\n",
      "Attempting to create folder if it does not exist >>>C:\\Users\\kalagi01\\Desktop\\dev\\eraiVersion2\\data\\adani\\processed\\1h\n",
      " checking if folder existis >>>C:\\Users\\kalagi01\\Desktop\\dev\\eraiVersion2\\data\\adani\\processed\\1h\n",
      "C:\\Users\\kalagi01\\Desktop\\dev\\eraiVersion2\\data\\adani\\processed\\1h >>> Folder created\n",
      "Attempting to create folder if it does not exist >>>C:\\Users\\kalagi01\\Desktop\\dev\\eraiVersion2\\data\\adani\\processed\\1h\\preProcessedData\n",
      " checking if folder existis >>>C:\\Users\\kalagi01\\Desktop\\dev\\eraiVersion2\\data\\adani\\processed\\1h\\preProcessedData\n",
      "C:\\Users\\kalagi01\\Desktop\\dev\\eraiVersion2\\data\\adani\\processed\\1h\\preProcessedData >>> Folder created\n",
      "Attempting to create/update file >>>C:\\Users\\kalagi01\\Desktop\\dev\\eraiVersion2\\data\\adani\\processed\\1h\\preProcessedData/processedRawData.csv\n",
      "created raw easy to use csv data to be used for preparing training data in the location  >>>C:\\Users\\kalagi01\\Desktop\\dev\\eraiVersion2\\data\\adani\\processed\\1h\\preProcessedData/processedRawData.csv\n",
      " creating/updating autoConfig file\n",
      " creating/updating autoConfig file >>>C:\\Users\\kalagi01\\Desktop\\dev\\eraiVersion2\\src\\config\\autoConfig\\config.json\n",
      "done\n"
     ]
    }
   ],
   "source": [
    "#sys.path.insert(0, module_path)\n",
    "from dataPreprocessing import *\n",
    "from dataPreprocessing.basicRawDataProcess import preProcessData\n",
    "\n",
    "from utilities.fileFolderManipulations import getJupyterRootDirectory\n",
    "\n",
    "preProcessingResult = preProcessData(dataName,dataFrequency)\n",
    "\n",
    "print('done')"
   ]
  },
  {
   "cell_type": "code",
   "execution_count": null,
   "metadata": {},
   "outputs": [],
   "source": []
  },
  {
   "cell_type": "code",
   "execution_count": null,
   "metadata": {},
   "outputs": [],
   "source": []
  },
  {
   "cell_type": "code",
   "execution_count": null,
   "metadata": {},
   "outputs": [],
   "source": []
  },
  {
   "cell_type": "code",
   "execution_count": null,
   "metadata": {},
   "outputs": [],
   "source": []
  },
  {
   "cell_type": "code",
   "execution_count": null,
   "metadata": {},
   "outputs": [],
   "source": []
  },
  {
   "cell_type": "code",
   "execution_count": null,
   "metadata": {},
   "outputs": [],
   "source": []
  },
  {
   "cell_type": "code",
   "execution_count": null,
   "metadata": {},
   "outputs": [],
   "source": []
  },
  {
   "cell_type": "code",
   "execution_count": null,
   "metadata": {},
   "outputs": [],
   "source": []
  }
 ],
 "metadata": {
  "kernelspec": {
   "display_name": "Python 3",
   "language": "python",
   "name": "python3"
  },
  "language_info": {
   "codemirror_mode": {
    "name": "ipython",
    "version": 3
   },
   "file_extension": ".py",
   "mimetype": "text/x-python",
   "name": "python",
   "nbconvert_exporter": "python",
   "pygments_lexer": "ipython3",
   "version": "3.7.3"
  }
 },
 "nbformat": 4,
 "nbformat_minor": 2
}
