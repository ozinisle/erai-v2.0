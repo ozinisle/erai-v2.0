{
 "cells": [
  {
   "cell_type": "code",
   "execution_count": 3,
   "metadata": {},
   "outputs": [],
   "source": [
    "# Include python files defined in the library folder to help facilitate the stock price Prediction \n",
    "import os\n",
    "import sys  \n",
    "module_path = os.path.abspath('../'+os.path.join('.'))\n",
    "\n",
    "sys.path.append(module_path)"
   ]
  },
  {
   "cell_type": "code",
   "execution_count": 7,
   "metadata": {
    "scrolled": true
   },
   "outputs": [
    {
     "name": "stdout",
     "output_type": "stream",
     "text": [
      " checking if folder existis >>>C:\\Users\\kalagi01\\Desktop\\dev\\erai\\data\\adani\\processed\\features\\correlations\n",
      "C:\\Users\\kalagi01\\Desktop\\dev\\erai\\data\\adani\\processed\\features\\correlations >>> Folder created\n"
     ]
    },
    {
     "data": {
      "text/plain": [
       "[True, True]"
      ]
     },
     "execution_count": 7,
     "metadata": {},
     "output_type": "execute_result"
    }
   ],
   "source": [
    "from utilities import  *\n",
    "from utilities.fileFolderManipulations import createFolder\n",
    "\n",
    "createFolder('C:\\\\Users\\\\kalagi01\\\\Desktop\\\\dev\\\\erai\\\\data\\\\adani\\\\processed\\\\features\\\\correlations')"
   ]
  },
  {
   "cell_type": "code",
   "execution_count": null,
   "metadata": {},
   "outputs": [],
   "source": []
  }
 ],
 "metadata": {
  "kernelspec": {
   "display_name": "Python 3",
   "language": "python",
   "name": "python3"
  },
  "language_info": {
   "codemirror_mode": {
    "name": "ipython",
    "version": 3
   },
   "file_extension": ".py",
   "mimetype": "text/x-python",
   "name": "python",
   "nbconvert_exporter": "python",
   "pygments_lexer": "ipython3",
   "version": "3.7.3"
  }
 },
 "nbformat": 4,
 "nbformat_minor": 2
}
