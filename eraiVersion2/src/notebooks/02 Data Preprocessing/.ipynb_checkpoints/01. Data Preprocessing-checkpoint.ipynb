{
 "cells": [
  {
   "cell_type": "markdown",
   "metadata": {},
   "source": [
    "## Configure Input"
   ]
  },
  {
   "cell_type": "code",
   "execution_count": 1,
   "metadata": {},
   "outputs": [],
   "source": [
    "dataName = 'adani'\n",
    "dataFrequency = '1h'"
   ]
  },
  {
   "cell_type": "code",
   "execution_count": 2,
   "metadata": {
    "scrolled": true
   },
   "outputs": [
    {
     "name": "stdout",
     "output_type": "stream",
     "text": [
      "module_path >>> /Users/493055/Desktop/dev/erai-v2.0/erai-v2.0/eraiVersion2/src <<< appended to sys path - Mandatory for the pythons files in src folder to be recognized\n"
     ]
    }
   ],
   "source": [
    "# Include python files defined in the library folder to help facilitate the stock price Prediction \n",
    "import os\n",
    "import sys  \n",
    "module_path = os.path.abspath('../../'+os.path.join('.'))\n",
    "\n",
    "sys.path.append(module_path)\n",
    "\n",
    "print(\"module_path >>> \" + module_path + \" <<< appended to sys path - Mandatory for the pythons files in src folder to be recognized\")"
   ]
  },
  {
   "cell_type": "code",
   "execution_count": 3,
   "metadata": {
    "scrolled": true
   },
   "outputs": [
    {
     "name": "stdout",
     "output_type": "stream",
     "text": [
      " data pre-processing >> imported dependencies\n",
      "looping through all the files to create input data\n",
      "reading input file >>> /Users/493055/Desktop/dev/erai-v2.0/erai-v2.0/eraiVersion2/data/adani/raw/1h/03_2017.json ...\n",
      "Error executing method >>> \n",
      "Traceback (most recent call last):\n",
      "  File \"/Users/493055/Desktop/dev/erai-v2.0/erai-v2.0/eraiVersion2/src/dataPreprocessing/basicRawDataProcess.py\", line 110, in preProcessData\n",
      "    data=data.values[0][0]['candles']\n",
      "TypeError: string indices must be integers\n",
      "\n",
      "Traceback (most recent call last):\n",
      "  File \"/Users/493055/Desktop/dev/erai-v2.0/erai-v2.0/eraiVersion2/src/dataPreprocessing/basicRawDataProcess.py\", line 110, in preProcessData\n",
      "TypeError: [<FrameSummary file /Users/493055/Desktop/dev/erai-v2.0/erai-v2.0/eraiVersion2/src/dataPreprocessing/basicRawDataProcess.py, line 110 in preProcessData>]\n",
      "\n",
      "done\n"
     ]
    }
   ],
   "source": [
    "#sys.path.insert(0, module_path)\n",
    "from dataPreprocessing import *\n",
    "from dataPreprocessing.basicRawDataProcess import preProcessData\n",
    "\n",
    "from utilities.fileFolderManipulations import getJupyterRootDirectory\n",
    "\n",
    "preProcessingResult = preProcessData(dataName,dataFrequency)\n",
    "\n",
    "print('done')"
   ]
  },
  {
   "cell_type": "code",
   "execution_count": null,
   "metadata": {},
   "outputs": [],
   "source": []
  },
  {
   "cell_type": "code",
   "execution_count": null,
   "metadata": {},
   "outputs": [],
   "source": []
  },
  {
   "cell_type": "code",
   "execution_count": null,
   "metadata": {},
   "outputs": [],
   "source": []
  },
  {
   "cell_type": "code",
   "execution_count": null,
   "metadata": {},
   "outputs": [],
   "source": []
  },
  {
   "cell_type": "code",
   "execution_count": null,
   "metadata": {},
   "outputs": [],
   "source": []
  },
  {
   "cell_type": "code",
   "execution_count": null,
   "metadata": {},
   "outputs": [],
   "source": []
  },
  {
   "cell_type": "code",
   "execution_count": null,
   "metadata": {},
   "outputs": [],
   "source": []
  },
  {
   "cell_type": "code",
   "execution_count": null,
   "metadata": {},
   "outputs": [],
   "source": []
  }
 ],
 "metadata": {
  "kernelspec": {
   "display_name": "Python 3",
   "language": "python",
   "name": "python3"
  },
  "language_info": {
   "codemirror_mode": {
    "name": "ipython",
    "version": 3
   },
   "file_extension": ".py",
   "mimetype": "text/x-python",
   "name": "python",
   "nbconvert_exporter": "python",
   "pygments_lexer": "ipython3",
   "version": "3.7.4"
  }
 },
 "nbformat": 4,
 "nbformat_minor": 2
}
